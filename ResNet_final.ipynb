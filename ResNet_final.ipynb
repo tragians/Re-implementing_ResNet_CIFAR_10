{
  "nbformat": 4,
  "nbformat_minor": 0,
  "metadata": {
    "accelerator": "GPU",
    "colab": {
      "name": "ResNet_final.ipynb",
      "provenance": [],
      "collapsed_sections": []
    },
    "kernelspec": {
      "display_name": "Python 3",
      "language": "python",
      "name": "python3"
    },
    "language_info": {
      "codemirror_mode": {
        "name": "ipython",
        "version": 3
      },
      "file_extension": ".py",
      "mimetype": "text/x-python",
      "name": "python",
      "nbconvert_exporter": "python",
      "pygments_lexer": "ipython3",
      "version": "3.8.1"
    },
    "widgets": {
      "application/vnd.jupyter.widget-state+json": {
        "6f4fb0253a0a45a9b02f53776063306d": {
          "model_module": "@jupyter-widgets/controls",
          "model_name": "HBoxModel",
          "state": {
            "_view_name": "HBoxView",
            "_dom_classes": [],
            "_model_name": "HBoxModel",
            "_view_module": "@jupyter-widgets/controls",
            "_model_module_version": "1.5.0",
            "_view_count": null,
            "_view_module_version": "1.5.0",
            "box_style": "",
            "layout": "IPY_MODEL_ea7446ad11bb45dc83f6ca86ee681c0a",
            "_model_module": "@jupyter-widgets/controls",
            "children": [
              "IPY_MODEL_0f25a0c8f5bc489cb6aa0180f985aa02",
              "IPY_MODEL_2648f3d62d304d2fa524029fb7fa57b3"
            ]
          }
        },
        "ea7446ad11bb45dc83f6ca86ee681c0a": {
          "model_module": "@jupyter-widgets/base",
          "model_name": "LayoutModel",
          "state": {
            "_view_name": "LayoutView",
            "grid_template_rows": null,
            "right": null,
            "justify_content": null,
            "_view_module": "@jupyter-widgets/base",
            "overflow": null,
            "_model_module_version": "1.2.0",
            "_view_count": null,
            "flex_flow": null,
            "width": null,
            "min_width": null,
            "border": null,
            "align_items": null,
            "bottom": null,
            "_model_module": "@jupyter-widgets/base",
            "top": null,
            "grid_column": null,
            "overflow_y": null,
            "overflow_x": null,
            "grid_auto_flow": null,
            "grid_area": null,
            "grid_template_columns": null,
            "flex": null,
            "_model_name": "LayoutModel",
            "justify_items": null,
            "grid_row": null,
            "max_height": null,
            "align_content": null,
            "visibility": null,
            "align_self": null,
            "height": null,
            "min_height": null,
            "padding": null,
            "grid_auto_rows": null,
            "grid_gap": null,
            "max_width": null,
            "order": null,
            "_view_module_version": "1.2.0",
            "grid_template_areas": null,
            "object_position": null,
            "object_fit": null,
            "grid_auto_columns": null,
            "margin": null,
            "display": null,
            "left": null
          }
        },
        "0f25a0c8f5bc489cb6aa0180f985aa02": {
          "model_module": "@jupyter-widgets/controls",
          "model_name": "FloatProgressModel",
          "state": {
            "_view_name": "ProgressView",
            "style": "IPY_MODEL_d5845444e46c4e0a86b1757cc99b6e4f",
            "_dom_classes": [],
            "description": "",
            "_model_name": "FloatProgressModel",
            "bar_style": "info",
            "max": 1,
            "_view_module": "@jupyter-widgets/controls",
            "_model_module_version": "1.5.0",
            "value": 1,
            "_view_count": null,
            "_view_module_version": "1.5.0",
            "orientation": "horizontal",
            "min": 0,
            "description_tooltip": null,
            "_model_module": "@jupyter-widgets/controls",
            "layout": "IPY_MODEL_1ed6b1570b7f45d1b102437230e9a67e"
          }
        },
        "2648f3d62d304d2fa524029fb7fa57b3": {
          "model_module": "@jupyter-widgets/controls",
          "model_name": "HTMLModel",
          "state": {
            "_view_name": "HTMLView",
            "style": "IPY_MODEL_06c3058dc4804d1d8bd245d1ce7e35b7",
            "_dom_classes": [],
            "description": "",
            "_model_name": "HTMLModel",
            "placeholder": "​",
            "_view_module": "@jupyter-widgets/controls",
            "_model_module_version": "1.5.0",
            "value": " 170500096/? [00:20&lt;00:00, 97852391.59it/s]",
            "_view_count": null,
            "_view_module_version": "1.5.0",
            "description_tooltip": null,
            "_model_module": "@jupyter-widgets/controls",
            "layout": "IPY_MODEL_33cf0e491a6c49aeb1f7a42fd302da1e"
          }
        },
        "d5845444e46c4e0a86b1757cc99b6e4f": {
          "model_module": "@jupyter-widgets/controls",
          "model_name": "ProgressStyleModel",
          "state": {
            "_view_name": "StyleView",
            "_model_name": "ProgressStyleModel",
            "description_width": "initial",
            "_view_module": "@jupyter-widgets/base",
            "_model_module_version": "1.5.0",
            "_view_count": null,
            "_view_module_version": "1.2.0",
            "bar_color": null,
            "_model_module": "@jupyter-widgets/controls"
          }
        },
        "1ed6b1570b7f45d1b102437230e9a67e": {
          "model_module": "@jupyter-widgets/base",
          "model_name": "LayoutModel",
          "state": {
            "_view_name": "LayoutView",
            "grid_template_rows": null,
            "right": null,
            "justify_content": null,
            "_view_module": "@jupyter-widgets/base",
            "overflow": null,
            "_model_module_version": "1.2.0",
            "_view_count": null,
            "flex_flow": null,
            "width": null,
            "min_width": null,
            "border": null,
            "align_items": null,
            "bottom": null,
            "_model_module": "@jupyter-widgets/base",
            "top": null,
            "grid_column": null,
            "overflow_y": null,
            "overflow_x": null,
            "grid_auto_flow": null,
            "grid_area": null,
            "grid_template_columns": null,
            "flex": null,
            "_model_name": "LayoutModel",
            "justify_items": null,
            "grid_row": null,
            "max_height": null,
            "align_content": null,
            "visibility": null,
            "align_self": null,
            "height": null,
            "min_height": null,
            "padding": null,
            "grid_auto_rows": null,
            "grid_gap": null,
            "max_width": null,
            "order": null,
            "_view_module_version": "1.2.0",
            "grid_template_areas": null,
            "object_position": null,
            "object_fit": null,
            "grid_auto_columns": null,
            "margin": null,
            "display": null,
            "left": null
          }
        },
        "06c3058dc4804d1d8bd245d1ce7e35b7": {
          "model_module": "@jupyter-widgets/controls",
          "model_name": "DescriptionStyleModel",
          "state": {
            "_view_name": "StyleView",
            "_model_name": "DescriptionStyleModel",
            "description_width": "",
            "_view_module": "@jupyter-widgets/base",
            "_model_module_version": "1.5.0",
            "_view_count": null,
            "_view_module_version": "1.2.0",
            "_model_module": "@jupyter-widgets/controls"
          }
        },
        "33cf0e491a6c49aeb1f7a42fd302da1e": {
          "model_module": "@jupyter-widgets/base",
          "model_name": "LayoutModel",
          "state": {
            "_view_name": "LayoutView",
            "grid_template_rows": null,
            "right": null,
            "justify_content": null,
            "_view_module": "@jupyter-widgets/base",
            "overflow": null,
            "_model_module_version": "1.2.0",
            "_view_count": null,
            "flex_flow": null,
            "width": null,
            "min_width": null,
            "border": null,
            "align_items": null,
            "bottom": null,
            "_model_module": "@jupyter-widgets/base",
            "top": null,
            "grid_column": null,
            "overflow_y": null,
            "overflow_x": null,
            "grid_auto_flow": null,
            "grid_area": null,
            "grid_template_columns": null,
            "flex": null,
            "_model_name": "LayoutModel",
            "justify_items": null,
            "grid_row": null,
            "max_height": null,
            "align_content": null,
            "visibility": null,
            "align_self": null,
            "height": null,
            "min_height": null,
            "padding": null,
            "grid_auto_rows": null,
            "grid_gap": null,
            "max_width": null,
            "order": null,
            "_view_module_version": "1.2.0",
            "grid_template_areas": null,
            "object_position": null,
            "object_fit": null,
            "grid_auto_columns": null,
            "margin": null,
            "display": null,
            "left": null
          }
        }
      }
    }
  },
  "cells": [
    {
      "cell_type": "code",
      "metadata": {
        "id": "gus94d284a1M"
      },
      "source": [
        "import copy\n",
        "import numpy as np\n",
        "import torch\n",
        "import torch.nn as nn\n",
        "import torch.nn.functional as F\n",
        "import torchvision\n",
        "import torchvision.transforms as transforms"
      ],
      "execution_count": 1,
      "outputs": []
    },
    {
      "cell_type": "markdown",
      "metadata": {
        "id": "v--MUSJd4a1c"
      },
      "source": [
        "# ResNet\n",
        "ResNet is the models that first introduced residual connections (a form of skip connections). It is a rather simple, but successful and very popular architecture. In this demo the [original version](https://arxiv.org/abs/1512.03385) for CIFAR-10 is re-implemented step by step. "
      ]
    },
    {
      "cell_type": "markdown",
      "metadata": {
        "id": "DqZR5W2E4a1c"
      },
      "source": [
        "This is just a convenience function to make e.g. `nn.Sequential` more flexible. It is e.g. useful in combination with `x.squeeze()`."
      ]
    },
    {
      "cell_type": "code",
      "metadata": {
        "id": "3PWJh_BX4a1f"
      },
      "source": [
        "class Lambda(nn.Module):\n",
        "    def __init__(self, func):\n",
        "        super().__init__()\n",
        "        self.func = func\n",
        "\n",
        "    def forward(self, x):\n",
        "        return self.func(x)"
      ],
      "execution_count": 2,
      "outputs": []
    },
    {
      "cell_type": "markdown",
      "metadata": {
        "id": "xQGu4DQW4a1g"
      },
      "source": [
        "We begin by implementing the residual blocks. \n",
        "\n",
        "Note that we use 'SAME' padding, no bias, and batch normalization after each convolution. "
      ]
    },
    {
      "cell_type": "code",
      "metadata": {
        "id": "rgb0Umej4a1h"
      },
      "source": [
        "class ResidualBlock(nn.Module):\n",
        "    \"\"\"\n",
        "    The residual block used by ResNet.\n",
        "    \n",
        "    Args:\n",
        "        in_channels: The number of channels (feature maps) of the incoming embedding\n",
        "        out_channels: The number of channels after the first convolution\n",
        "        stride: Stride size of the first convolution, used for downsampling\n",
        "    \"\"\"\n",
        "    \n",
        "    def __init__(self, in_channels, out_channels, stride=1):\n",
        "        super().__init__()        \n",
        "        if stride > 1 or in_channels != out_channels:\n",
        "            # Add strides in the skip connection and zeros for the new channels.\n",
        "            self.skip = Lambda(lambda x: F.pad(x[:, :, ::stride, ::stride],\n",
        "                                               (0, 0, 0, 0, 0, out_channels - in_channels),\n",
        "                                               mode=\"constant\", value=0))\n",
        "        else:\n",
        "            self.skip = nn.Sequential()\n",
        "            \n",
        "        # Initialize the required layers\n",
        "        # 2 CNNs with Kernel = 3 and SAME padding 3%2=1 (K%2)\n",
        "        self.stride = stride\n",
        "        self.conv1 = nn.Conv2d(in_channels = in_channels, out_channels = out_channels, kernel_size=3,  \n",
        "                              stride = self.stride, padding=1)\n",
        "     \n",
        "        #second convolution doesn't have a stride size\n",
        "        self.conv2 = nn.Conv2d(in_channels = out_channels, out_channels = out_channels, \n",
        "                               kernel_size=3, padding=1)\n",
        "        \n",
        "        # initialize batch normalization for each convolution\n",
        "        # number of interesting features equal to the outcoming channels \n",
        "        self.bn1 = nn.BatchNorm2d(out_channels)\n",
        "        self.bn2 = nn.BatchNorm2d(out_channels)\n",
        "        \n",
        "        \n",
        "    def forward(self, input):\n",
        "        # Execute the required layers and functions\n",
        "        \n",
        "        # initialize skip connection\n",
        "        skip = self.skip(input)\n",
        "        \n",
        "        # save forward pass of inner residual block in output \n",
        "        output = self.conv1(input)\n",
        "        output = self.bn1(output)\n",
        "        output = F.relu(output)\n",
        "        output = self.conv2(output)\n",
        "        output = self.bn2(output)\n",
        "        output = output + skip\n",
        "        output = F.relu(output)\n",
        "        return output\n",
        "        "
      ],
      "execution_count": 3,
      "outputs": []
    },
    {
      "cell_type": "markdown",
      "metadata": {
        "id": "XH_xXQo14a1j"
      },
      "source": [
        "Next we implement a stack of residual blocks for convenience. The first layer in the block is the one changing the number of channels and downsampling. "
      ]
    },
    {
      "cell_type": "code",
      "metadata": {
        "id": "3KAEOCrW4a1k"
      },
      "source": [
        "class ResidualStack(nn.Module):\n",
        "    \"\"\"\n",
        "    A stack of residual blocks.\n",
        "    \n",
        "    Args:\n",
        "        in_channels: The number of channels (feature maps) of the incoming embedding\n",
        "        out_channels: The number of channels after the first layer\n",
        "        stride: Stride size of the first layer, used for downsampling\n",
        "        num_blocks: Number of residual blocks\n",
        "    \"\"\"\n",
        "    \n",
        "    def __init__(self, in_channels, out_channels, stride, num_blocks):\n",
        "        super().__init__()\n",
        "        \n",
        "        # Initialize the required layers (blocks)\n",
        "        self.ResStack = nn.ModuleList()\n",
        "        self.first_block = True\n",
        "        self.stride = stride\n",
        "        \n",
        "        for i in range(num_blocks):\n",
        "            if i == 0 and self.first_block==True:\n",
        "                self.ResStack.append(ResidualBlock(in_channels, out_channels,\n",
        "                self.stride))\n",
        "                \n",
        "                self.first_block = False\n",
        "            else:\n",
        "                self.ResStack.append(ResidualBlock(out_channels, out_channels))\n",
        "      \n",
        "        \n",
        "        \n",
        "    def forward(self, input):\n",
        "        # Execute the layers (blocks)\n",
        "        # ModuleList can act as an iterable, or be indexed using ints\n",
        "\n",
        "        for i,l in enumerate(self.ResStack):\n",
        "            input = l(input)\n",
        "        \n",
        "        return input\n",
        "        "
      ],
      "execution_count": 4,
      "outputs": []
    },
    {
      "cell_type": "markdown",
      "metadata": {
        "id": "fp8WIX3-4a1m"
      },
      "source": [
        "Now we implement the full model."
      ]
    },
    {
      "cell_type": "code",
      "metadata": {
        "id": "lzSwItfX4a1n"
      },
      "source": [
        "n = 5\n",
        "num_classes = 10\n",
        "\n",
        "# Implement ResNet via nn.Sequential\n",
        "stride = 2 \n",
        "\n",
        "# used the information about the filters and the 10-way fully connected layer\n",
        "# to assume the input/output channels sizes after each residual stack\n",
        "resnet = nn.Sequential(\n",
        "    nn.Conv2d(3, 16, kernel_size=3, stride=2, padding=1),\n",
        "    nn.BatchNorm2d(16),\n",
        "    nn.ReLU(),\n",
        "    ResidualStack(16,32, stride,n),\n",
        "    ResidualStack(32,64, stride,n),\n",
        "    ResidualStack(64,10, stride,n), \n",
        "    nn.AdaptiveAvgPool2d(1), #this is the size of the window, if set to 1 we are basically done with convolutions\n",
        "    Lambda(lambda x: x.squeeze()), \n",
        "    nn.Softmax(),\n",
        "    Lambda(lambda x: x.view(x.size(0), -1))\n",
        ")"
      ],
      "execution_count": 5,
      "outputs": []
    },
    {
      "cell_type": "markdown",
      "metadata": {
        "id": "mdEbDLjV4a1o"
      },
      "source": [
        "Next we initialize the weights of our model."
      ]
    },
    {
      "cell_type": "code",
      "metadata": {
        "id": "Bty1ANtE4a1p"
      },
      "source": [
        "def initialize_weight(module):\n",
        "    if isinstance(module, (nn.Linear, nn.Conv2d)):\n",
        "        nn.init.kaiming_normal_(module.weight, nonlinearity='relu')\n",
        "    elif isinstance(module, nn.BatchNorm2d):\n",
        "        nn.init.constant_(module.weight, 1)\n",
        "        nn.init.constant_(module.bias, 0)\n",
        "        \n",
        "resnet.apply(initialize_weight);"
      ],
      "execution_count": 6,
      "outputs": []
    },
    {
      "cell_type": "markdown",
      "metadata": {
        "id": "KffRjcMA4a1p"
      },
      "source": [
        "# Training\n",
        "Now it is time to train the model.\n",
        "\n",
        "First we load the data and split them into train and validation set, so that we only use the test set when we are completely done developing our model. "
      ]
    },
    {
      "cell_type": "code",
      "metadata": {
        "id": "6J11FNS64a1q"
      },
      "source": [
        "class CIFAR10Subset(torchvision.datasets.CIFAR10):\n",
        "    \"\"\"\n",
        "    Get a subset of the CIFAR10 dataset, according to the passed indices.\n",
        "    \"\"\"\n",
        "    def __init__(self, *args, idx=None, **kwargs):\n",
        "        super().__init__(*args, **kwargs)\n",
        "        \n",
        "        if idx is None:\n",
        "            return\n",
        "        \n",
        "        self.data = self.data[idx]\n",
        "        targets_np = np.array(self.targets)\n",
        "        self.targets = targets_np[idx].tolist()"
      ],
      "execution_count": 7,
      "outputs": []
    },
    {
      "cell_type": "markdown",
      "metadata": {
        "id": "uaurbUGi4a1r"
      },
      "source": [
        "We next define transformations that change the images into PyTorch tensors, standardize the values according to the precomputed mean and standard deviation, and provide data augmentation for the training set."
      ]
    },
    {
      "cell_type": "code",
      "metadata": {
        "id": "YmOTUWan4a1r"
      },
      "source": [
        "normalize = transforms.Normalize(mean=[0.485, 0.456, 0.406],\n",
        "                                 std=[0.229, 0.224, 0.225])\n",
        "transform_train = transforms.Compose([\n",
        "    transforms.RandomHorizontalFlip(),\n",
        "    transforms.RandomCrop(32, 4),\n",
        "    transforms.ToTensor(),\n",
        "    normalize,\n",
        "])\n",
        "transform_eval = transforms.Compose([\n",
        "    transforms.ToTensor(),\n",
        "    normalize\n",
        "])"
      ],
      "execution_count": 8,
      "outputs": []
    },
    {
      "cell_type": "code",
      "metadata": {
        "colab": {
          "base_uri": "https://localhost:8080/",
          "height": 117,
          "referenced_widgets": [
            "6f4fb0253a0a45a9b02f53776063306d",
            "ea7446ad11bb45dc83f6ca86ee681c0a",
            "0f25a0c8f5bc489cb6aa0180f985aa02",
            "2648f3d62d304d2fa524029fb7fa57b3",
            "d5845444e46c4e0a86b1757cc99b6e4f",
            "1ed6b1570b7f45d1b102437230e9a67e",
            "06c3058dc4804d1d8bd245d1ce7e35b7",
            "33cf0e491a6c49aeb1f7a42fd302da1e"
          ]
        },
        "id": "HQ1TwXox4a1s",
        "outputId": "e5cb3c6f-211f-4779-ae66-203107829c6b"
      },
      "source": [
        "ntrain = 45_000\n",
        "train_set = CIFAR10Subset(root='./data', train=True, idx=range(ntrain),\n",
        "                          download=True, transform=transform_train)\n",
        "val_set = CIFAR10Subset(root='./data', train=True, idx=range(ntrain, 50_000),\n",
        "                        download=True, transform=transform_eval)\n",
        "test_set = torchvision.datasets.CIFAR10(root='./data', train=False,\n",
        "                                        download=True, transform=transform_eval)"
      ],
      "execution_count": 9,
      "outputs": [
        {
          "output_type": "stream",
          "text": [
            "Downloading https://www.cs.toronto.edu/~kriz/cifar-10-python.tar.gz to ./data/cifar-10-python.tar.gz\n"
          ],
          "name": "stdout"
        },
        {
          "output_type": "display_data",
          "data": {
            "application/vnd.jupyter.widget-view+json": {
              "model_id": "6f4fb0253a0a45a9b02f53776063306d",
              "version_minor": 0,
              "version_major": 2
            },
            "text/plain": [
              "HBox(children=(FloatProgress(value=1.0, bar_style='info', max=1.0), HTML(value='')))"
            ]
          },
          "metadata": {
            "tags": []
          }
        },
        {
          "output_type": "stream",
          "text": [
            "Extracting ./data/cifar-10-python.tar.gz to ./data\n",
            "Files already downloaded and verified\n",
            "Files already downloaded and verified\n"
          ],
          "name": "stdout"
        }
      ]
    },
    {
      "cell_type": "code",
      "metadata": {
        "id": "lMEkeyNU4a1u"
      },
      "source": [
        "dataloaders = {}\n",
        "dataloaders['train'] = torch.utils.data.DataLoader(train_set, batch_size=128,\n",
        "                                                   shuffle=True, num_workers=2,\n",
        "                                                   pin_memory=True)\n",
        "dataloaders['val'] = torch.utils.data.DataLoader(val_set, batch_size=128,\n",
        "                                                 shuffle=False, num_workers=2,\n",
        "                                                 pin_memory=True)\n",
        "dataloaders['test'] = torch.utils.data.DataLoader(test_set, batch_size=128,\n",
        "                                                  shuffle=False, num_workers=2,\n",
        "                                                  pin_memory=True)"
      ],
      "execution_count": 10,
      "outputs": []
    },
    {
      "cell_type": "markdown",
      "metadata": {
        "id": "R5W9nE3M4a1u"
      },
      "source": [
        "Next we push the model to our GPU (if there is one)."
      ]
    },
    {
      "cell_type": "code",
      "metadata": {
        "id": "vcIOFh_h4a1v"
      },
      "source": [
        "device = torch.device('cuda') if torch.cuda.is_available() else torch.device('cpu')\n",
        "resnet.to(device);"
      ],
      "execution_count": 11,
      "outputs": []
    },
    {
      "cell_type": "markdown",
      "metadata": {
        "id": "XNpPLE0Z4a1v"
      },
      "source": [
        "Next we define a helper method that does one epoch of training or evaluation. We have only defined training here, so you need to implement the necessary changes for evaluation!"
      ]
    },
    {
      "cell_type": "code",
      "metadata": {
        "id": "HTWn-M7U4a1w"
      },
      "source": [
        "def run_epoch(model, optimizer, dataloader, train):\n",
        "    \"\"\"\n",
        "    Run one epoch of training or evaluation.\n",
        "    \n",
        "    Args:\n",
        "        model: The model used for prediction\n",
        "        optimizer: Optimization algorithm for the model\n",
        "        dataloader: Dataloader providing the data to run our model on\n",
        "        train: Whether this epoch is used for training or evaluation\n",
        "        \n",
        "    Returns:\n",
        "        Loss and accuracy in this epoch.\n",
        "    \"\"\"\n",
        "    \n",
        "    device = next(model.parameters()).device\n",
        "    \n",
        "    # Set model to training mode (for e.g. batch normalization, dropout)\n",
        "    if train is True:\n",
        "        model.train()\n",
        "    else:\n",
        "        model.eval()\n",
        "\n",
        "    epoch_loss = 0.0\n",
        "    epoch_acc = 0.0\n",
        "\n",
        "    # Iterate over data\n",
        "    for xb, yb in dataloader:\n",
        "        xb, yb = xb.to(device), yb.to(device)\n",
        "\n",
        "        # zero the parameter gradients\n",
        "        if train ==True:\n",
        "            optimizer.zero_grad()\n",
        "\n",
        "        # forward\n",
        "        with torch.set_grad_enabled(True):\n",
        "            pred = model(xb)\n",
        "            loss = F.cross_entropy(pred, yb)\n",
        "            \n",
        "            top1 = torch.argmax(pred, dim=1)\n",
        "            ncorrect = torch.sum(top1 == yb)\n",
        "            \n",
        "            if train ==True:\n",
        "\n",
        "                loss.backward()\n",
        "                optimizer.step()\n",
        "\n",
        "        # statistics\n",
        "        epoch_loss += loss.item()\n",
        "        epoch_acc += ncorrect.item()\n",
        "    \n",
        "    epoch_loss /= len(dataloader.dataset)\n",
        "    epoch_acc /= len(dataloader.dataset)\n",
        "    return epoch_loss, epoch_acc"
      ],
      "execution_count": 12,
      "outputs": []
    },
    {
      "cell_type": "markdown",
      "metadata": {
        "id": "Djhe27e44a1x"
      },
      "source": [
        "Next we implement a method for fitting (training) our model with early stopping."
      ]
    },
    {
      "cell_type": "code",
      "metadata": {
        "id": "rX9kl2kp4a1x"
      },
      "source": [
        "def fit(model, optimizer, lr_scheduler, dataloaders, max_epochs, patience):\n",
        "    \"\"\"\n",
        "    Fit the given model on the dataset.\n",
        "    \n",
        "    Args:\n",
        "        model: The model used for prediction\n",
        "        optimizer: Optimization algorithm for the model\n",
        "        lr_scheduler: Learning rate scheduler that improves training\n",
        "                      in late epochs with learning rate decay\n",
        "        dataloaders: Dataloaders for training and validation\n",
        "        max_epochs: Maximum number of epochs for training\n",
        "        patience: Number of epochs to wait with early stopping the\n",
        "                  training if validation loss has decreased\n",
        "                  \n",
        "    Returns:\n",
        "        Loss and accuracy in this epoch.\n",
        "    \"\"\"\n",
        "    \n",
        "    best_acc = 0\n",
        "    curr_patience = 0\n",
        "    \n",
        "    for epoch in range(max_epochs):\n",
        "        train_loss, train_acc = run_epoch(model, optimizer, dataloaders['train'], train=True)\n",
        "        lr_scheduler.step()\n",
        "        print(f\"Epoch {epoch + 1: >3}/{max_epochs}, train loss: {train_loss:.2e}, accuracy: {train_acc * 100:.2f}%\")\n",
        "        \n",
        "        val_loss, val_acc = run_epoch(model, None, dataloaders['val'], train=False)\n",
        "        print(f\"Epoch {epoch + 1: >3}/{max_epochs}, val loss: {val_loss:.2e}, accuracy: {val_acc * 100:.2f}%\")\n",
        "        \n",
        "        # Add early stopping and save the best weights (in best_model_weights)\n",
        "        if np.isclose(best_acc,val_acc,0.5) is True:\n",
        "            curr_patience += 1\n",
        "        best_acc = val_acc\n",
        "        best_model_weights = copy.deepcopy(model.state_dict())\n",
        "        \n",
        "        if curr_patience >= patience:\n",
        "          #get best model weights but how\n",
        "          break\n",
        "\n",
        "\n",
        "    model.load_state_dict(best_model_weights)"
      ],
      "execution_count": 13,
      "outputs": []
    },
    {
      "cell_type": "code",
      "metadata": {
        "colab": {
          "base_uri": "https://localhost:8080/"
        },
        "id": "0CJAjbtp4a1y",
        "outputId": "c0af7956-680c-42b1-aa06-e3762c1b3634"
      },
      "source": [
        "optimizer = torch.optim.SGD(resnet.parameters(), lr=0.1, momentum=0.9, weight_decay=1e-4)\n",
        "lr_scheduler = torch.optim.lr_scheduler.MultiStepLR(optimizer, milestones=[100, 150], gamma=0.1)\n",
        "\n",
        "# Fit model\n",
        "fit(resnet, optimizer, lr_scheduler, dataloaders, max_epochs=200, patience=50)"
      ],
      "execution_count": 14,
      "outputs": [
        {
          "output_type": "stream",
          "text": [
            "/usr/local/lib/python3.6/dist-packages/torch/nn/modules/container.py:117: UserWarning: Implicit dimension choice for softmax has been deprecated. Change the call to include dim=X as an argument.\n",
            "  input = module(input)\n"
          ],
          "name": "stderr"
        },
        {
          "output_type": "stream",
          "text": [
            "Epoch   1/200, train loss: 1.68e-02, accuracy: 29.89%\n",
            "Epoch   1/200, val loss: 1.67e-02, accuracy: 37.28%\n",
            "Epoch   2/200, train loss: 1.61e-02, accuracy: 39.86%\n",
            "Epoch   2/200, val loss: 1.63e-02, accuracy: 42.88%\n",
            "Epoch   3/200, train loss: 1.57e-02, accuracy: 44.40%\n",
            "Epoch   3/200, val loss: 1.60e-02, accuracy: 45.96%\n",
            "Epoch   4/200, train loss: 1.55e-02, accuracy: 47.60%\n",
            "Epoch   4/200, val loss: 1.56e-02, accuracy: 51.00%\n",
            "Epoch   5/200, train loss: 1.53e-02, accuracy: 49.47%\n",
            "Epoch   5/200, val loss: 1.56e-02, accuracy: 49.86%\n",
            "Epoch   6/200, train loss: 1.52e-02, accuracy: 51.43%\n",
            "Epoch   6/200, val loss: 1.53e-02, accuracy: 54.54%\n",
            "Epoch   7/200, train loss: 1.51e-02, accuracy: 52.79%\n",
            "Epoch   7/200, val loss: 1.55e-02, accuracy: 51.66%\n",
            "Epoch   8/200, train loss: 1.50e-02, accuracy: 54.29%\n",
            "Epoch   8/200, val loss: 1.51e-02, accuracy: 57.16%\n",
            "Epoch   9/200, train loss: 1.48e-02, accuracy: 56.06%\n",
            "Epoch   9/200, val loss: 1.51e-02, accuracy: 58.16%\n",
            "Epoch  10/200, train loss: 1.48e-02, accuracy: 57.03%\n",
            "Epoch  10/200, val loss: 1.48e-02, accuracy: 61.06%\n",
            "Epoch  11/200, train loss: 1.46e-02, accuracy: 58.72%\n",
            "Epoch  11/200, val loss: 1.49e-02, accuracy: 59.20%\n",
            "Epoch  12/200, train loss: 1.46e-02, accuracy: 59.51%\n",
            "Epoch  12/200, val loss: 1.48e-02, accuracy: 60.50%\n",
            "Epoch  13/200, train loss: 1.45e-02, accuracy: 60.63%\n",
            "Epoch  13/200, val loss: 1.46e-02, accuracy: 62.92%\n",
            "Epoch  14/200, train loss: 1.44e-02, accuracy: 61.43%\n",
            "Epoch  14/200, val loss: 1.45e-02, accuracy: 65.10%\n",
            "Epoch  15/200, train loss: 1.44e-02, accuracy: 62.07%\n",
            "Epoch  15/200, val loss: 1.47e-02, accuracy: 61.98%\n",
            "Epoch  16/200, train loss: 1.43e-02, accuracy: 62.61%\n",
            "Epoch  16/200, val loss: 1.51e-02, accuracy: 57.82%\n",
            "Epoch  17/200, train loss: 1.43e-02, accuracy: 63.47%\n",
            "Epoch  17/200, val loss: 1.46e-02, accuracy: 63.96%\n",
            "Epoch  18/200, train loss: 1.42e-02, accuracy: 64.33%\n",
            "Epoch  18/200, val loss: 1.44e-02, accuracy: 66.70%\n",
            "Epoch  19/200, train loss: 1.41e-02, accuracy: 65.16%\n",
            "Epoch  19/200, val loss: 1.47e-02, accuracy: 62.86%\n",
            "Epoch  20/200, train loss: 1.41e-02, accuracy: 65.11%\n",
            "Epoch  20/200, val loss: 1.45e-02, accuracy: 65.00%\n",
            "Epoch  21/200, train loss: 1.41e-02, accuracy: 65.67%\n",
            "Epoch  21/200, val loss: 1.45e-02, accuracy: 64.84%\n",
            "Epoch  22/200, train loss: 1.40e-02, accuracy: 66.45%\n",
            "Epoch  22/200, val loss: 1.43e-02, accuracy: 67.74%\n",
            "Epoch  23/200, train loss: 1.40e-02, accuracy: 67.32%\n",
            "Epoch  23/200, val loss: 1.44e-02, accuracy: 66.22%\n",
            "Epoch  24/200, train loss: 1.40e-02, accuracy: 67.05%\n",
            "Epoch  24/200, val loss: 1.42e-02, accuracy: 68.58%\n",
            "Epoch  25/200, train loss: 1.39e-02, accuracy: 67.60%\n",
            "Epoch  25/200, val loss: 1.42e-02, accuracy: 68.22%\n",
            "Epoch  26/200, train loss: 1.39e-02, accuracy: 68.07%\n",
            "Epoch  26/200, val loss: 1.43e-02, accuracy: 67.00%\n",
            "Epoch  27/200, train loss: 1.39e-02, accuracy: 68.34%\n",
            "Epoch  27/200, val loss: 1.43e-02, accuracy: 67.18%\n",
            "Epoch  28/200, train loss: 1.39e-02, accuracy: 68.98%\n",
            "Epoch  28/200, val loss: 1.42e-02, accuracy: 68.94%\n",
            "Epoch  29/200, train loss: 1.39e-02, accuracy: 68.81%\n",
            "Epoch  29/200, val loss: 1.43e-02, accuracy: 67.30%\n",
            "Epoch  30/200, train loss: 1.38e-02, accuracy: 69.02%\n",
            "Epoch  30/200, val loss: 1.42e-02, accuracy: 68.42%\n",
            "Epoch  31/200, train loss: 1.38e-02, accuracy: 69.99%\n",
            "Epoch  31/200, val loss: 1.40e-02, accuracy: 71.38%\n",
            "Epoch  32/200, train loss: 1.38e-02, accuracy: 69.25%\n",
            "Epoch  32/200, val loss: 1.40e-02, accuracy: 71.28%\n",
            "Epoch  33/200, train loss: 1.38e-02, accuracy: 69.60%\n",
            "Epoch  33/200, val loss: 1.41e-02, accuracy: 70.08%\n",
            "Epoch  34/200, train loss: 1.38e-02, accuracy: 70.26%\n",
            "Epoch  34/200, val loss: 1.41e-02, accuracy: 70.26%\n",
            "Epoch  35/200, train loss: 1.37e-02, accuracy: 70.46%\n",
            "Epoch  35/200, val loss: 1.40e-02, accuracy: 70.58%\n",
            "Epoch  36/200, train loss: 1.38e-02, accuracy: 69.93%\n",
            "Epoch  36/200, val loss: 1.42e-02, accuracy: 69.30%\n",
            "Epoch  37/200, train loss: 1.37e-02, accuracy: 70.43%\n",
            "Epoch  37/200, val loss: 1.40e-02, accuracy: 70.74%\n",
            "Epoch  38/200, train loss: 1.37e-02, accuracy: 70.96%\n",
            "Epoch  38/200, val loss: 1.40e-02, accuracy: 71.68%\n",
            "Epoch  39/200, train loss: 1.37e-02, accuracy: 71.02%\n",
            "Epoch  39/200, val loss: 1.39e-02, accuracy: 72.48%\n",
            "Epoch  40/200, train loss: 1.37e-02, accuracy: 71.03%\n",
            "Epoch  40/200, val loss: 1.40e-02, accuracy: 71.30%\n",
            "Epoch  41/200, train loss: 1.37e-02, accuracy: 71.12%\n",
            "Epoch  41/200, val loss: 1.39e-02, accuracy: 72.30%\n",
            "Epoch  42/200, train loss: 1.37e-02, accuracy: 71.35%\n",
            "Epoch  42/200, val loss: 1.41e-02, accuracy: 70.02%\n",
            "Epoch  43/200, train loss: 1.36e-02, accuracy: 71.59%\n",
            "Epoch  43/200, val loss: 1.39e-02, accuracy: 71.42%\n",
            "Epoch  44/200, train loss: 1.36e-02, accuracy: 71.82%\n",
            "Epoch  44/200, val loss: 1.40e-02, accuracy: 71.18%\n",
            "Epoch  45/200, train loss: 1.36e-02, accuracy: 71.61%\n",
            "Epoch  45/200, val loss: 1.40e-02, accuracy: 71.70%\n",
            "Epoch  46/200, train loss: 1.36e-02, accuracy: 71.60%\n",
            "Epoch  46/200, val loss: 1.39e-02, accuracy: 72.76%\n",
            "Epoch  47/200, train loss: 1.36e-02, accuracy: 71.88%\n",
            "Epoch  47/200, val loss: 1.37e-02, accuracy: 74.50%\n",
            "Epoch  48/200, train loss: 1.36e-02, accuracy: 72.37%\n",
            "Epoch  48/200, val loss: 1.38e-02, accuracy: 73.18%\n",
            "Epoch  49/200, train loss: 1.36e-02, accuracy: 71.96%\n",
            "Epoch  49/200, val loss: 1.40e-02, accuracy: 70.88%\n",
            "Epoch  50/200, train loss: 1.36e-02, accuracy: 72.06%\n",
            "Epoch  50/200, val loss: 1.42e-02, accuracy: 69.98%\n",
            "Epoch  51/200, train loss: 1.36e-02, accuracy: 72.07%\n",
            "Epoch  51/200, val loss: 1.39e-02, accuracy: 71.08%\n",
            "Epoch  52/200, train loss: 1.36e-02, accuracy: 72.45%\n",
            "Epoch  52/200, val loss: 1.40e-02, accuracy: 70.92%\n",
            "Epoch  53/200, train loss: 1.35e-02, accuracy: 73.12%\n",
            "Epoch  53/200, val loss: 1.40e-02, accuracy: 70.84%\n",
            "Epoch  54/200, train loss: 1.36e-02, accuracy: 72.79%\n",
            "Epoch  54/200, val loss: 1.40e-02, accuracy: 71.72%\n",
            "Epoch  55/200, train loss: 1.36e-02, accuracy: 72.23%\n",
            "Epoch  55/200, val loss: 1.42e-02, accuracy: 68.66%\n",
            "Epoch  56/200, train loss: 1.36e-02, accuracy: 72.47%\n",
            "Epoch  56/200, val loss: 1.38e-02, accuracy: 74.26%\n",
            "Epoch  57/200, train loss: 1.35e-02, accuracy: 73.16%\n",
            "Epoch  57/200, val loss: 1.37e-02, accuracy: 74.38%\n",
            "Epoch  58/200, train loss: 1.35e-02, accuracy: 72.95%\n",
            "Epoch  58/200, val loss: 1.39e-02, accuracy: 72.66%\n",
            "Epoch  59/200, train loss: 1.35e-02, accuracy: 72.98%\n",
            "Epoch  59/200, val loss: 1.38e-02, accuracy: 73.46%\n",
            "Epoch  60/200, train loss: 1.35e-02, accuracy: 72.89%\n",
            "Epoch  60/200, val loss: 1.38e-02, accuracy: 73.06%\n",
            "Epoch  61/200, train loss: 1.36e-02, accuracy: 72.68%\n",
            "Epoch  61/200, val loss: 1.39e-02, accuracy: 72.40%\n",
            "Epoch  62/200, train loss: 1.36e-02, accuracy: 72.52%\n",
            "Epoch  62/200, val loss: 1.38e-02, accuracy: 73.90%\n",
            "Epoch  63/200, train loss: 1.35e-02, accuracy: 73.15%\n",
            "Epoch  63/200, val loss: 1.39e-02, accuracy: 72.94%\n",
            "Epoch  64/200, train loss: 1.35e-02, accuracy: 73.40%\n",
            "Epoch  64/200, val loss: 1.38e-02, accuracy: 73.54%\n",
            "Epoch  65/200, train loss: 1.35e-02, accuracy: 73.33%\n",
            "Epoch  65/200, val loss: 1.39e-02, accuracy: 72.80%\n",
            "Epoch  66/200, train loss: 1.35e-02, accuracy: 73.27%\n",
            "Epoch  66/200, val loss: 1.40e-02, accuracy: 71.20%\n",
            "Epoch  67/200, train loss: 1.35e-02, accuracy: 73.41%\n",
            "Epoch  67/200, val loss: 1.38e-02, accuracy: 73.26%\n",
            "Epoch  68/200, train loss: 1.35e-02, accuracy: 73.76%\n",
            "Epoch  68/200, val loss: 1.37e-02, accuracy: 73.98%\n",
            "Epoch  69/200, train loss: 1.35e-02, accuracy: 73.69%\n",
            "Epoch  69/200, val loss: 1.38e-02, accuracy: 73.54%\n",
            "Epoch  70/200, train loss: 1.35e-02, accuracy: 74.01%\n",
            "Epoch  70/200, val loss: 1.37e-02, accuracy: 75.00%\n",
            "Epoch  71/200, train loss: 1.35e-02, accuracy: 73.48%\n",
            "Epoch  71/200, val loss: 1.41e-02, accuracy: 69.44%\n",
            "Epoch  72/200, train loss: 1.35e-02, accuracy: 73.60%\n",
            "Epoch  72/200, val loss: 1.38e-02, accuracy: 73.64%\n",
            "Epoch  73/200, train loss: 1.35e-02, accuracy: 73.63%\n",
            "Epoch  73/200, val loss: 1.40e-02, accuracy: 72.38%\n",
            "Epoch  74/200, train loss: 1.35e-02, accuracy: 73.62%\n",
            "Epoch  74/200, val loss: 1.37e-02, accuracy: 75.54%\n",
            "Epoch  75/200, train loss: 1.35e-02, accuracy: 73.74%\n",
            "Epoch  75/200, val loss: 1.37e-02, accuracy: 75.24%\n",
            "Epoch  76/200, train loss: 1.35e-02, accuracy: 73.59%\n",
            "Epoch  76/200, val loss: 1.37e-02, accuracy: 75.30%\n",
            "Epoch  77/200, train loss: 1.35e-02, accuracy: 73.87%\n",
            "Epoch  77/200, val loss: 1.39e-02, accuracy: 73.32%\n",
            "Epoch  78/200, train loss: 1.35e-02, accuracy: 73.96%\n",
            "Epoch  78/200, val loss: 1.37e-02, accuracy: 74.24%\n",
            "Epoch  79/200, train loss: 1.35e-02, accuracy: 74.08%\n",
            "Epoch  79/200, val loss: 1.37e-02, accuracy: 74.90%\n",
            "Epoch  80/200, train loss: 1.35e-02, accuracy: 73.67%\n",
            "Epoch  80/200, val loss: 1.37e-02, accuracy: 74.70%\n",
            "Epoch  81/200, train loss: 1.34e-02, accuracy: 74.16%\n",
            "Epoch  81/200, val loss: 1.39e-02, accuracy: 72.24%\n",
            "Epoch  82/200, train loss: 1.34e-02, accuracy: 74.47%\n",
            "Epoch  82/200, val loss: 1.37e-02, accuracy: 73.84%\n",
            "Epoch  83/200, train loss: 1.35e-02, accuracy: 73.81%\n",
            "Epoch  83/200, val loss: 1.37e-02, accuracy: 75.24%\n",
            "Epoch  84/200, train loss: 1.34e-02, accuracy: 74.40%\n",
            "Epoch  84/200, val loss: 1.37e-02, accuracy: 74.46%\n",
            "Epoch  85/200, train loss: 1.35e-02, accuracy: 73.97%\n",
            "Epoch  85/200, val loss: 1.37e-02, accuracy: 74.90%\n",
            "Epoch  86/200, train loss: 1.34e-02, accuracy: 74.98%\n",
            "Epoch  86/200, val loss: 1.39e-02, accuracy: 73.22%\n",
            "Epoch  87/200, train loss: 1.34e-02, accuracy: 74.49%\n",
            "Epoch  87/200, val loss: 1.39e-02, accuracy: 72.94%\n",
            "Epoch  88/200, train loss: 1.34e-02, accuracy: 74.40%\n",
            "Epoch  88/200, val loss: 1.39e-02, accuracy: 73.28%\n",
            "Epoch  89/200, train loss: 1.34e-02, accuracy: 74.50%\n",
            "Epoch  89/200, val loss: 1.38e-02, accuracy: 73.30%\n",
            "Epoch  90/200, train loss: 1.34e-02, accuracy: 74.72%\n",
            "Epoch  90/200, val loss: 1.38e-02, accuracy: 74.52%\n",
            "Epoch  91/200, train loss: 1.34e-02, accuracy: 74.21%\n",
            "Epoch  91/200, val loss: 1.38e-02, accuracy: 73.86%\n",
            "Epoch  92/200, train loss: 1.34e-02, accuracy: 74.88%\n",
            "Epoch  92/200, val loss: 1.36e-02, accuracy: 76.56%\n",
            "Epoch  93/200, train loss: 1.34e-02, accuracy: 74.88%\n",
            "Epoch  93/200, val loss: 1.36e-02, accuracy: 75.22%\n",
            "Epoch  94/200, train loss: 1.34e-02, accuracy: 74.86%\n",
            "Epoch  94/200, val loss: 1.39e-02, accuracy: 72.10%\n",
            "Epoch  95/200, train loss: 1.34e-02, accuracy: 74.62%\n",
            "Epoch  95/200, val loss: 1.39e-02, accuracy: 72.72%\n",
            "Epoch  96/200, train loss: 1.34e-02, accuracy: 74.62%\n",
            "Epoch  96/200, val loss: 1.37e-02, accuracy: 75.86%\n",
            "Epoch  97/200, train loss: 1.34e-02, accuracy: 75.22%\n",
            "Epoch  97/200, val loss: 1.36e-02, accuracy: 76.42%\n",
            "Epoch  98/200, train loss: 1.34e-02, accuracy: 74.96%\n",
            "Epoch  98/200, val loss: 1.41e-02, accuracy: 70.74%\n",
            "Epoch  99/200, train loss: 1.34e-02, accuracy: 74.53%\n",
            "Epoch  99/200, val loss: 1.42e-02, accuracy: 69.24%\n",
            "Epoch 100/200, train loss: 1.34e-02, accuracy: 74.91%\n",
            "Epoch 100/200, val loss: 1.36e-02, accuracy: 76.54%\n",
            "Epoch 101/200, train loss: 1.31e-02, accuracy: 78.72%\n",
            "Epoch 101/200, val loss: 1.32e-02, accuracy: 80.82%\n",
            "Epoch 102/200, train loss: 1.30e-02, accuracy: 79.98%\n",
            "Epoch 102/200, val loss: 1.32e-02, accuracy: 81.20%\n",
            "Epoch 103/200, train loss: 1.29e-02, accuracy: 80.76%\n",
            "Epoch 103/200, val loss: 1.32e-02, accuracy: 82.42%\n",
            "Epoch 104/200, train loss: 1.29e-02, accuracy: 81.39%\n",
            "Epoch 104/200, val loss: 1.31e-02, accuracy: 82.36%\n",
            "Epoch 105/200, train loss: 1.29e-02, accuracy: 81.58%\n",
            "Epoch 105/200, val loss: 1.32e-02, accuracy: 82.02%\n",
            "Epoch 106/200, train loss: 1.29e-02, accuracy: 81.76%\n",
            "Epoch 106/200, val loss: 1.31e-02, accuracy: 82.18%\n",
            "Epoch 107/200, train loss: 1.28e-02, accuracy: 82.13%\n",
            "Epoch 107/200, val loss: 1.31e-02, accuracy: 82.54%\n",
            "Epoch 108/200, train loss: 1.28e-02, accuracy: 82.31%\n",
            "Epoch 108/200, val loss: 1.31e-02, accuracy: 82.12%\n",
            "Epoch 109/200, train loss: 1.28e-02, accuracy: 82.36%\n",
            "Epoch 109/200, val loss: 1.31e-02, accuracy: 82.52%\n",
            "Epoch 110/200, train loss: 1.28e-02, accuracy: 82.67%\n",
            "Epoch 110/200, val loss: 1.31e-02, accuracy: 82.44%\n",
            "Epoch 111/200, train loss: 1.28e-02, accuracy: 82.89%\n",
            "Epoch 111/200, val loss: 1.31e-02, accuracy: 82.68%\n",
            "Epoch 112/200, train loss: 1.28e-02, accuracy: 82.89%\n",
            "Epoch 112/200, val loss: 1.31e-02, accuracy: 82.42%\n",
            "Epoch 113/200, train loss: 1.28e-02, accuracy: 83.05%\n",
            "Epoch 113/200, val loss: 1.31e-02, accuracy: 82.48%\n",
            "Epoch 114/200, train loss: 1.28e-02, accuracy: 82.93%\n",
            "Epoch 114/200, val loss: 1.31e-02, accuracy: 82.42%\n",
            "Epoch 115/200, train loss: 1.27e-02, accuracy: 83.16%\n",
            "Epoch 115/200, val loss: 1.31e-02, accuracy: 83.06%\n",
            "Epoch 116/200, train loss: 1.27e-02, accuracy: 83.48%\n",
            "Epoch 116/200, val loss: 1.31e-02, accuracy: 82.66%\n",
            "Epoch 117/200, train loss: 1.27e-02, accuracy: 83.56%\n",
            "Epoch 117/200, val loss: 1.31e-02, accuracy: 82.50%\n",
            "Epoch 118/200, train loss: 1.27e-02, accuracy: 83.49%\n",
            "Epoch 118/200, val loss: 1.30e-02, accuracy: 83.20%\n",
            "Epoch 119/200, train loss: 1.27e-02, accuracy: 83.74%\n",
            "Epoch 119/200, val loss: 1.31e-02, accuracy: 82.66%\n",
            "Epoch 120/200, train loss: 1.27e-02, accuracy: 83.53%\n",
            "Epoch 120/200, val loss: 1.31e-02, accuracy: 82.54%\n",
            "Epoch 121/200, train loss: 1.27e-02, accuracy: 83.80%\n",
            "Epoch 121/200, val loss: 1.31e-02, accuracy: 83.02%\n",
            "Epoch 122/200, train loss: 1.27e-02, accuracy: 83.89%\n",
            "Epoch 122/200, val loss: 1.31e-02, accuracy: 82.56%\n",
            "Epoch 123/200, train loss: 1.27e-02, accuracy: 83.90%\n",
            "Epoch 123/200, val loss: 1.31e-02, accuracy: 82.98%\n",
            "Epoch 124/200, train loss: 1.27e-02, accuracy: 84.17%\n",
            "Epoch 124/200, val loss: 1.31e-02, accuracy: 82.86%\n",
            "Epoch 125/200, train loss: 1.27e-02, accuracy: 83.92%\n",
            "Epoch 125/200, val loss: 1.30e-02, accuracy: 83.20%\n",
            "Epoch 126/200, train loss: 1.27e-02, accuracy: 84.35%\n",
            "Epoch 126/200, val loss: 1.31e-02, accuracy: 82.90%\n",
            "Epoch 127/200, train loss: 1.27e-02, accuracy: 84.11%\n",
            "Epoch 127/200, val loss: 1.30e-02, accuracy: 83.40%\n",
            "Epoch 128/200, train loss: 1.27e-02, accuracy: 84.28%\n",
            "Epoch 128/200, val loss: 1.30e-02, accuracy: 83.38%\n",
            "Epoch 129/200, train loss: 1.26e-02, accuracy: 84.49%\n",
            "Epoch 129/200, val loss: 1.30e-02, accuracy: 83.04%\n",
            "Epoch 130/200, train loss: 1.26e-02, accuracy: 84.48%\n",
            "Epoch 130/200, val loss: 1.30e-02, accuracy: 83.42%\n",
            "Epoch 131/200, train loss: 1.26e-02, accuracy: 84.58%\n",
            "Epoch 131/200, val loss: 1.31e-02, accuracy: 82.82%\n",
            "Epoch 132/200, train loss: 1.26e-02, accuracy: 84.64%\n",
            "Epoch 132/200, val loss: 1.31e-02, accuracy: 82.96%\n",
            "Epoch 133/200, train loss: 1.26e-02, accuracy: 84.51%\n",
            "Epoch 133/200, val loss: 1.31e-02, accuracy: 83.02%\n",
            "Epoch 134/200, train loss: 1.26e-02, accuracy: 84.71%\n",
            "Epoch 134/200, val loss: 1.31e-02, accuracy: 83.20%\n",
            "Epoch 135/200, train loss: 1.26e-02, accuracy: 84.71%\n",
            "Epoch 135/200, val loss: 1.30e-02, accuracy: 83.38%\n",
            "Epoch 136/200, train loss: 1.26e-02, accuracy: 84.67%\n",
            "Epoch 136/200, val loss: 1.31e-02, accuracy: 82.98%\n",
            "Epoch 137/200, train loss: 1.26e-02, accuracy: 84.91%\n",
            "Epoch 137/200, val loss: 1.30e-02, accuracy: 83.40%\n",
            "Epoch 138/200, train loss: 1.26e-02, accuracy: 84.70%\n",
            "Epoch 138/200, val loss: 1.31e-02, accuracy: 82.68%\n",
            "Epoch 139/200, train loss: 1.26e-02, accuracy: 84.79%\n",
            "Epoch 139/200, val loss: 1.31e-02, accuracy: 82.42%\n",
            "Epoch 140/200, train loss: 1.26e-02, accuracy: 85.13%\n",
            "Epoch 140/200, val loss: 1.30e-02, accuracy: 83.42%\n",
            "Epoch 141/200, train loss: 1.26e-02, accuracy: 84.80%\n",
            "Epoch 141/200, val loss: 1.30e-02, accuracy: 83.34%\n",
            "Epoch 142/200, train loss: 1.26e-02, accuracy: 85.26%\n",
            "Epoch 142/200, val loss: 1.30e-02, accuracy: 83.18%\n",
            "Epoch 143/200, train loss: 1.26e-02, accuracy: 85.14%\n",
            "Epoch 143/200, val loss: 1.30e-02, accuracy: 83.58%\n",
            "Epoch 144/200, train loss: 1.26e-02, accuracy: 85.06%\n",
            "Epoch 144/200, val loss: 1.30e-02, accuracy: 83.54%\n",
            "Epoch 145/200, train loss: 1.26e-02, accuracy: 85.13%\n",
            "Epoch 145/200, val loss: 1.30e-02, accuracy: 83.50%\n",
            "Epoch 146/200, train loss: 1.26e-02, accuracy: 85.27%\n",
            "Epoch 146/200, val loss: 1.31e-02, accuracy: 83.38%\n",
            "Epoch 147/200, train loss: 1.26e-02, accuracy: 85.30%\n",
            "Epoch 147/200, val loss: 1.31e-02, accuracy: 83.10%\n",
            "Epoch 148/200, train loss: 1.26e-02, accuracy: 85.45%\n",
            "Epoch 148/200, val loss: 1.30e-02, accuracy: 83.22%\n",
            "Epoch 149/200, train loss: 1.26e-02, accuracy: 85.20%\n",
            "Epoch 149/200, val loss: 1.30e-02, accuracy: 83.66%\n",
            "Epoch 150/200, train loss: 1.26e-02, accuracy: 85.50%\n",
            "Epoch 150/200, val loss: 1.30e-02, accuracy: 83.94%\n",
            "Epoch 151/200, train loss: 1.25e-02, accuracy: 85.89%\n",
            "Epoch 151/200, val loss: 1.30e-02, accuracy: 84.22%\n",
            "Epoch 152/200, train loss: 1.25e-02, accuracy: 86.26%\n",
            "Epoch 152/200, val loss: 1.30e-02, accuracy: 83.70%\n",
            "Epoch 153/200, train loss: 1.25e-02, accuracy: 86.38%\n",
            "Epoch 153/200, val loss: 1.30e-02, accuracy: 83.90%\n",
            "Epoch 154/200, train loss: 1.25e-02, accuracy: 86.63%\n",
            "Epoch 154/200, val loss: 1.30e-02, accuracy: 83.92%\n",
            "Epoch 155/200, train loss: 1.25e-02, accuracy: 86.62%\n",
            "Epoch 155/200, val loss: 1.30e-02, accuracy: 84.20%\n",
            "Epoch 156/200, train loss: 1.25e-02, accuracy: 86.53%\n",
            "Epoch 156/200, val loss: 1.30e-02, accuracy: 84.08%\n",
            "Epoch 157/200, train loss: 1.25e-02, accuracy: 86.76%\n",
            "Epoch 157/200, val loss: 1.30e-02, accuracy: 84.06%\n",
            "Epoch 158/200, train loss: 1.25e-02, accuracy: 86.99%\n",
            "Epoch 158/200, val loss: 1.30e-02, accuracy: 83.98%\n",
            "Epoch 159/200, train loss: 1.25e-02, accuracy: 86.83%\n",
            "Epoch 159/200, val loss: 1.30e-02, accuracy: 84.20%\n",
            "Epoch 160/200, train loss: 1.25e-02, accuracy: 86.84%\n",
            "Epoch 160/200, val loss: 1.30e-02, accuracy: 84.24%\n",
            "Epoch 161/200, train loss: 1.25e-02, accuracy: 86.70%\n",
            "Epoch 161/200, val loss: 1.30e-02, accuracy: 84.24%\n",
            "Epoch 162/200, train loss: 1.24e-02, accuracy: 87.03%\n",
            "Epoch 162/200, val loss: 1.30e-02, accuracy: 84.16%\n",
            "Epoch 163/200, train loss: 1.25e-02, accuracy: 86.82%\n",
            "Epoch 163/200, val loss: 1.30e-02, accuracy: 84.18%\n",
            "Epoch 164/200, train loss: 1.25e-02, accuracy: 86.93%\n",
            "Epoch 164/200, val loss: 1.30e-02, accuracy: 84.14%\n",
            "Epoch 165/200, train loss: 1.24e-02, accuracy: 87.11%\n",
            "Epoch 165/200, val loss: 1.30e-02, accuracy: 84.52%\n",
            "Epoch 166/200, train loss: 1.25e-02, accuracy: 86.96%\n",
            "Epoch 166/200, val loss: 1.30e-02, accuracy: 84.28%\n",
            "Epoch 167/200, train loss: 1.24e-02, accuracy: 87.06%\n",
            "Epoch 167/200, val loss: 1.30e-02, accuracy: 84.18%\n",
            "Epoch 168/200, train loss: 1.24e-02, accuracy: 87.17%\n",
            "Epoch 168/200, val loss: 1.30e-02, accuracy: 84.28%\n",
            "Epoch 169/200, train loss: 1.24e-02, accuracy: 87.08%\n",
            "Epoch 169/200, val loss: 1.30e-02, accuracy: 84.44%\n",
            "Epoch 170/200, train loss: 1.24e-02, accuracy: 87.29%\n",
            "Epoch 170/200, val loss: 1.29e-02, accuracy: 84.32%\n",
            "Epoch 171/200, train loss: 1.25e-02, accuracy: 86.95%\n",
            "Epoch 171/200, val loss: 1.30e-02, accuracy: 84.20%\n",
            "Epoch 172/200, train loss: 1.24e-02, accuracy: 87.22%\n",
            "Epoch 172/200, val loss: 1.30e-02, accuracy: 84.04%\n",
            "Epoch 173/200, train loss: 1.24e-02, accuracy: 87.27%\n",
            "Epoch 173/200, val loss: 1.30e-02, accuracy: 84.14%\n",
            "Epoch 174/200, train loss: 1.24e-02, accuracy: 87.16%\n",
            "Epoch 174/200, val loss: 1.30e-02, accuracy: 84.12%\n",
            "Epoch 175/200, train loss: 1.24e-02, accuracy: 87.19%\n",
            "Epoch 175/200, val loss: 1.30e-02, accuracy: 84.02%\n",
            "Epoch 176/200, train loss: 1.24e-02, accuracy: 87.22%\n",
            "Epoch 176/200, val loss: 1.30e-02, accuracy: 84.30%\n",
            "Epoch 177/200, train loss: 1.24e-02, accuracy: 87.21%\n",
            "Epoch 177/200, val loss: 1.29e-02, accuracy: 84.26%\n",
            "Epoch 178/200, train loss: 1.24e-02, accuracy: 87.33%\n",
            "Epoch 178/200, val loss: 1.30e-02, accuracy: 84.30%\n",
            "Epoch 179/200, train loss: 1.24e-02, accuracy: 87.34%\n",
            "Epoch 179/200, val loss: 1.29e-02, accuracy: 84.26%\n",
            "Epoch 180/200, train loss: 1.24e-02, accuracy: 87.15%\n",
            "Epoch 180/200, val loss: 1.29e-02, accuracy: 84.28%\n",
            "Epoch 181/200, train loss: 1.24e-02, accuracy: 87.31%\n",
            "Epoch 181/200, val loss: 1.29e-02, accuracy: 84.42%\n",
            "Epoch 182/200, train loss: 1.24e-02, accuracy: 87.24%\n",
            "Epoch 182/200, val loss: 1.29e-02, accuracy: 84.34%\n",
            "Epoch 183/200, train loss: 1.24e-02, accuracy: 87.38%\n",
            "Epoch 183/200, val loss: 1.29e-02, accuracy: 84.60%\n",
            "Epoch 184/200, train loss: 1.24e-02, accuracy: 87.34%\n",
            "Epoch 184/200, val loss: 1.30e-02, accuracy: 84.32%\n",
            "Epoch 185/200, train loss: 1.24e-02, accuracy: 87.42%\n",
            "Epoch 185/200, val loss: 1.29e-02, accuracy: 84.42%\n",
            "Epoch 186/200, train loss: 1.24e-02, accuracy: 87.60%\n",
            "Epoch 186/200, val loss: 1.29e-02, accuracy: 84.32%\n",
            "Epoch 187/200, train loss: 1.24e-02, accuracy: 87.49%\n",
            "Epoch 187/200, val loss: 1.29e-02, accuracy: 84.40%\n",
            "Epoch 188/200, train loss: 1.24e-02, accuracy: 87.40%\n",
            "Epoch 188/200, val loss: 1.29e-02, accuracy: 84.58%\n",
            "Epoch 189/200, train loss: 1.24e-02, accuracy: 87.56%\n",
            "Epoch 189/200, val loss: 1.29e-02, accuracy: 84.48%\n",
            "Epoch 190/200, train loss: 1.24e-02, accuracy: 87.50%\n",
            "Epoch 190/200, val loss: 1.29e-02, accuracy: 84.36%\n",
            "Epoch 191/200, train loss: 1.24e-02, accuracy: 87.58%\n",
            "Epoch 191/200, val loss: 1.29e-02, accuracy: 84.74%\n",
            "Epoch 192/200, train loss: 1.24e-02, accuracy: 87.32%\n",
            "Epoch 192/200, val loss: 1.29e-02, accuracy: 84.54%\n",
            "Epoch 193/200, train loss: 1.24e-02, accuracy: 87.49%\n",
            "Epoch 193/200, val loss: 1.29e-02, accuracy: 84.40%\n",
            "Epoch 194/200, train loss: 1.24e-02, accuracy: 87.44%\n",
            "Epoch 194/200, val loss: 1.29e-02, accuracy: 84.56%\n",
            "Epoch 195/200, train loss: 1.24e-02, accuracy: 87.55%\n",
            "Epoch 195/200, val loss: 1.29e-02, accuracy: 84.50%\n",
            "Epoch 196/200, train loss: 1.24e-02, accuracy: 87.59%\n",
            "Epoch 196/200, val loss: 1.29e-02, accuracy: 84.56%\n",
            "Epoch 197/200, train loss: 1.24e-02, accuracy: 87.58%\n",
            "Epoch 197/200, val loss: 1.29e-02, accuracy: 84.42%\n",
            "Epoch 198/200, train loss: 1.24e-02, accuracy: 87.67%\n",
            "Epoch 198/200, val loss: 1.29e-02, accuracy: 84.56%\n",
            "Epoch 199/200, train loss: 1.24e-02, accuracy: 87.64%\n",
            "Epoch 199/200, val loss: 1.29e-02, accuracy: 84.76%\n",
            "Epoch 200/200, train loss: 1.24e-02, accuracy: 87.72%\n",
            "Epoch 200/200, val loss: 1.29e-02, accuracy: 84.50%\n"
          ],
          "name": "stdout"
        }
      ]
    },
    {
      "cell_type": "markdown",
      "metadata": {
        "id": "tEl7JWVL4a1z"
      },
      "source": [
        "Once the model is trained we run it on the test set to obtain our final accuracy.\n",
        "Note that we can only look at the test set once, everything else would lead to overfitting. "
      ]
    },
    {
      "cell_type": "code",
      "metadata": {
        "id": "uy0_9V1L4a1z",
        "colab": {
          "base_uri": "https://localhost:8080/"
        },
        "outputId": "12bb53ae-ed9b-4218-e22f-3cf5a9c398f0"
      },
      "source": [
        "test_loss, test_acc = run_epoch(resnet, None, dataloaders['test'], train=False)\n",
        "print(f\"Test loss: {test_loss:.1e}, accuracy: {test_acc * 100:.2f}%\")"
      ],
      "execution_count": 15,
      "outputs": [
        {
          "output_type": "stream",
          "text": [
            "/usr/local/lib/python3.6/dist-packages/torch/nn/modules/container.py:117: UserWarning: Implicit dimension choice for softmax has been deprecated. Change the call to include dim=X as an argument.\n",
            "  input = module(input)\n"
          ],
          "name": "stderr"
        },
        {
          "output_type": "stream",
          "text": [
            "Test loss: 1.3e-02, accuracy: 83.74%\n"
          ],
          "name": "stdout"
        }
      ]
    },
    {
      "cell_type": "markdown",
      "metadata": {
        "id": "KeCpm92p4a10"
      },
      "source": [
        "That's almost what was reported in the paper (92.49%) and we didn't even train on the full training set."
      ]
    }
  ]
}